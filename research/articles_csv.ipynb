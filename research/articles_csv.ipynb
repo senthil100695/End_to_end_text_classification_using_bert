{
  "cells": [
    {
      "cell_type": "code",
      "execution_count": 1,
      "metadata": {
        "id": "Gq3qDpwhxd5N"
      },
      "outputs": [],
      "source": [
        "import numpy as np\n",
        "import pandas as pd\n",
        "import nltk\n"
      ]
    },
    {
      "cell_type": "code",
      "execution_count": 30,
      "metadata": {
        "colab": {
          "base_uri": "https://localhost:8080/",
          "height": 368
        },
        "id": "L2RQ4Cv41Jsu",
        "outputId": "22170a1b-2d9a-47e5-82de-25e221d4a8e7"
      },
      "outputs": [],
      "source": [
        "#read dataset\n",
        "df = pd.read_csv('F:\\\\senthil\\\\project\\\\End_to_end_text_classification_using_bert\\\\artifacts\\\\data_ingestion\\\\article.csv',encoding='cp1252')"
      ]
    },
    {
      "cell_type": "code",
      "execution_count": 13,
      "metadata": {
        "colab": {
          "base_uri": "https://localhost:8080/",
          "height": 521
        },
        "id": "ONcG8hfG7r6U",
        "outputId": "aba7bbe1-7353-442c-893d-8e946eb12083"
      },
      "outputs": [],
      "source": [
        "df2 =df"
      ]
    },
    {
      "cell_type": "code",
      "execution_count": 31,
      "metadata": {
        "id": "l69TcXHD7uaJ"
      },
      "outputs": [],
      "source": [
        "df.drop(['Article.Banner.Image','Outlets','Id','Tonality'],axis=1,inplace=True)"
      ]
    },
    {
      "cell_type": "code",
      "execution_count": 7,
      "metadata": {
        "colab": {
          "base_uri": "https://localhost:8080/",
          "height": 258
        },
        "id": "qPMPKFHD77ln",
        "outputId": "ac709c17-cc7f-4949-d919-e8b807afbaf8"
      },
      "outputs": [
        {
          "data": {
            "text/html": [
              "<div>\n",
              "<style scoped>\n",
              "    .dataframe tbody tr th:only-of-type {\n",
              "        vertical-align: middle;\n",
              "    }\n",
              "\n",
              "    .dataframe tbody tr th {\n",
              "        vertical-align: top;\n",
              "    }\n",
              "\n",
              "    .dataframe thead th {\n",
              "        text-align: right;\n",
              "    }\n",
              "</style>\n",
              "<table border=\"1\" class=\"dataframe\">\n",
              "  <thead>\n",
              "    <tr style=\"text-align: right;\">\n",
              "      <th></th>\n",
              "      <th>Heading</th>\n",
              "      <th>Article.Description</th>\n",
              "      <th>Full_Article</th>\n",
              "      <th>Article_Type</th>\n",
              "    </tr>\n",
              "  </thead>\n",
              "  <tbody>\n",
              "    <tr>\n",
              "      <th>0</th>\n",
              "      <td>A Puzzling Maneuver, Then Freefall: NTSB Repor...</td>\n",
              "      <td>&lt;p&gt;The helicopter that crashed in Southeast Al...</td>\n",
              "      <td>&lt;p&gt;The helicopter that crashed in Southeast Al...</td>\n",
              "      <td>Commercial</td>\n",
              "    </tr>\n",
              "    <tr>\n",
              "      <th>1</th>\n",
              "      <td>Bell’s Nexus Air Taxi Concept Rings Changes Fo...</td>\n",
              "      <td>&lt;p&gt;A year after teasing the fledgling electric...</td>\n",
              "      <td>&lt;p&gt;A year after teasing the fledgling electric...</td>\n",
              "      <td>Commercial</td>\n",
              "    </tr>\n",
              "    <tr>\n",
              "      <th>2</th>\n",
              "      <td>Bell Helicopter Show Air Taxi Nexus</td>\n",
              "      <td>&lt;p&gt;Bell released the full-size design of the v...</td>\n",
              "      <td>&lt;p&gt;Bell released the full-size design of the v...</td>\n",
              "      <td>Commercial</td>\n",
              "    </tr>\n",
              "    <tr>\n",
              "      <th>3</th>\n",
              "      <td>BELL DÉVOILE LA CONCEPTION INTÉGRALE DE SON TA...</td>\n",
              "      <td>&lt;p&gt;Bell est une soci&amp;eacute;t&amp;eacute; am&amp;eacut...</td>\n",
              "      <td>&lt;p&gt;Bell est une soci&amp;eacute;t&amp;eacute; am&amp;eacut...</td>\n",
              "      <td>Commercial</td>\n",
              "    </tr>\n",
              "    <tr>\n",
              "      <th>4</th>\n",
              "      <td>Les premiers retours d’Olivier Ezratty</td>\n",
              "      <td>&lt;p&gt;It was still anecdotal to observe the explo...</td>\n",
              "      <td>&lt;p&gt;It was still anecdotal to observe the explo...</td>\n",
              "      <td>Commercial</td>\n",
              "    </tr>\n",
              "  </tbody>\n",
              "</table>\n",
              "</div>"
            ],
            "text/plain": [
              "                                             Heading  \\\n",
              "0  A Puzzling Maneuver, Then Freefall: NTSB Repor...   \n",
              "1  Bell’s Nexus Air Taxi Concept Rings Changes Fo...   \n",
              "2                Bell Helicopter Show Air Taxi Nexus   \n",
              "3  BELL DÉVOILE LA CONCEPTION INTÉGRALE DE SON TA...   \n",
              "4             Les premiers retours d’Olivier Ezratty   \n",
              "\n",
              "                                 Article.Description  \\\n",
              "0  <p>The helicopter that crashed in Southeast Al...   \n",
              "1  <p>A year after teasing the fledgling electric...   \n",
              "2  <p>Bell released the full-size design of the v...   \n",
              "3  <p>Bell est une soci&eacute;t&eacute; am&eacut...   \n",
              "4  <p>It was still anecdotal to observe the explo...   \n",
              "\n",
              "                                        Full_Article Article_Type  \n",
              "0  <p>The helicopter that crashed in Southeast Al...   Commercial  \n",
              "1  <p>A year after teasing the fledgling electric...   Commercial  \n",
              "2  <p>Bell released the full-size design of the v...   Commercial  \n",
              "3  <p>Bell est une soci&eacute;t&eacute; am&eacut...   Commercial  \n",
              "4  <p>It was still anecdotal to observe the explo...   Commercial  "
            ]
          },
          "execution_count": 7,
          "metadata": {},
          "output_type": "execute_result"
        }
      ],
      "source": [
        "df.head()"
      ]
    },
    {
      "cell_type": "code",
      "execution_count": 32,
      "metadata": {},
      "outputs": [
        {
          "data": {
            "text/plain": [
              "Index(['Id', 'Heading', 'Article.Banner.Image', 'Outlets',\n",
              "       'Article.Description', 'Full_Article', 'Article_Type', 'Tonality'],\n",
              "      dtype='object')"
            ]
          },
          "execution_count": 32,
          "metadata": {},
          "output_type": "execute_result"
        }
      ],
      "source": [
        "column_name = df2.columns\n",
        "column_name"
      ]
    },
    {
      "cell_type": "code",
      "execution_count": 33,
      "metadata": {
        "colab": {
          "base_uri": "https://localhost:8080/",
          "height": 36
        },
        "id": "8MVsagU7e7O8",
        "outputId": "c44ae973-56e1-4857-bdc6-6f551d237893"
      },
      "outputs": [],
      "source": [
        "from sklearn.preprocessing import LabelEncoder\n",
        "\n",
        "le = LabelEncoder()\n",
        "\n",
        "df['Article_Type']= le.fit_transform(df['Article_Type'])\n",
        "\n",
        "indepent_feature = ['Heading', 'Article.Description', 'Full_Article']\n",
        "\n",
        "X = df[indepent_feature]\n",
        "\n",
        "y = df['Article_Type']\n"
      ]
    },
    {
      "cell_type": "code",
      "execution_count": 35,
      "metadata": {},
      "outputs": [
        {
          "data": {
            "text/plain": [
              "0       0\n",
              "1       0\n",
              "2       0\n",
              "3       0\n",
              "4       0\n",
              "       ..\n",
              "4300    3\n",
              "4301    0\n",
              "4302    3\n",
              "4303    0\n",
              "4304    3\n",
              "Name: Article_Type, Length: 4305, dtype: int32"
            ]
          },
          "execution_count": 35,
          "metadata": {},
          "output_type": "execute_result"
        }
      ],
      "source": [
        "y"
      ]
    },
    {
      "cell_type": "code",
      "execution_count": 37,
      "metadata": {},
      "outputs": [],
      "source": [
        "from sklearn.model_selection import train_test_split \n",
        "\n",
        "X_train, X_test, y_train, y_test = train_test_split(X,y, test_size = 0.20, random_state = 42)"
      ]
    },
    {
      "cell_type": "code",
      "execution_count": 42,
      "metadata": {},
      "outputs": [
        {
          "data": {
            "text/plain": [
              "861"
            ]
          },
          "execution_count": 42,
          "metadata": {},
          "output_type": "execute_result"
        }
      ],
      "source": [
        "len(X_test)"
      ]
    },
    {
      "cell_type": "code",
      "execution_count": 44,
      "metadata": {},
      "outputs": [
        {
          "data": {
            "text/plain": [
              "861"
            ]
          },
          "execution_count": 44,
          "metadata": {},
          "output_type": "execute_result"
        }
      ],
      "source": [
        "len(y_test)"
      ]
    },
    {
      "cell_type": "code",
      "execution_count": 45,
      "metadata": {},
      "outputs": [
        {
          "data": {
            "text/html": [
              "<div>\n",
              "<style scoped>\n",
              "    .dataframe tbody tr th:only-of-type {\n",
              "        vertical-align: middle;\n",
              "    }\n",
              "\n",
              "    .dataframe tbody tr th {\n",
              "        vertical-align: top;\n",
              "    }\n",
              "\n",
              "    .dataframe thead th {\n",
              "        text-align: right;\n",
              "    }\n",
              "</style>\n",
              "<table border=\"1\" class=\"dataframe\">\n",
              "  <thead>\n",
              "    <tr style=\"text-align: right;\">\n",
              "      <th></th>\n",
              "      <th>Heading</th>\n",
              "      <th>Article.Description</th>\n",
              "      <th>Full_Article</th>\n",
              "      <th>Article_Type</th>\n",
              "    </tr>\n",
              "  </thead>\n",
              "  <tbody>\n",
              "    <tr>\n",
              "      <th>1302</th>\n",
              "      <td>First Images of Prototype Marine One Helicopte...</td>\n",
              "      <td>The images show a Sikorsky VH-92A helicopter i...</td>\n",
              "      <td>&lt;p&gt;The images show a Sikorsky VH-92A helicopte...</td>\n",
              "      <td>3</td>\n",
              "    </tr>\n",
              "    <tr>\n",
              "      <th>1123</th>\n",
              "      <td>Hengyang people can take a helicopter to heaven!</td>\n",
              "      <td>Hengyang people can take a helicopter to heaven!</td>\n",
              "      <td>&lt;p&gt;Hengyang people can take a helicopter to he...</td>\n",
              "      <td>0</td>\n",
              "    </tr>\n",
              "    <tr>\n",
              "      <th>1321</th>\n",
              "      <td>Turkish military helicopter crashes on suburba...</td>\n",
              "      <td>The UH-1 helicopter went down in the quiet sub...</td>\n",
              "      <td>&lt;p&gt;The UH-1 helicopter went down in the quiet ...</td>\n",
              "      <td>3</td>\n",
              "    </tr>\n",
              "    <tr>\n",
              "      <th>3894</th>\n",
              "      <td>These Secret Helicopters Were Flown by a Shado...</td>\n",
              "      <td>&lt;p&gt;&amp;nbsp;The OH-58Ds were officially part of F...</td>\n",
              "      <td>&lt;p&gt;&amp;nbsp;The OH-58Ds were officially part of F...</td>\n",
              "      <td>3</td>\n",
              "    </tr>\n",
              "    <tr>\n",
              "      <th>1929</th>\n",
              "      <td>Static Display at MEBAA Show 2018 Announced</td>\n",
              "      <td>&lt;p&gt;When the MEBAA Show 2018 opens on 10 Decemb...</td>\n",
              "      <td>&lt;p&gt;When the MEBAA Show 2018 opens on 10 Decemb...</td>\n",
              "      <td>0</td>\n",
              "    </tr>\n",
              "  </tbody>\n",
              "</table>\n",
              "</div>"
            ],
            "text/plain": [
              "                                                Heading  \\\n",
              "1302  First Images of Prototype Marine One Helicopte...   \n",
              "1123   Hengyang people can take a helicopter to heaven!   \n",
              "1321  Turkish military helicopter crashes on suburba...   \n",
              "3894  These Secret Helicopters Were Flown by a Shado...   \n",
              "1929        Static Display at MEBAA Show 2018 Announced   \n",
              "\n",
              "                                    Article.Description  \\\n",
              "1302  The images show a Sikorsky VH-92A helicopter i...   \n",
              "1123   Hengyang people can take a helicopter to heaven!   \n",
              "1321  The UH-1 helicopter went down in the quiet sub...   \n",
              "3894  <p>&nbsp;The OH-58Ds were officially part of F...   \n",
              "1929  <p>When the MEBAA Show 2018 opens on 10 Decemb...   \n",
              "\n",
              "                                           Full_Article  Article_Type  \n",
              "1302  <p>The images show a Sikorsky VH-92A helicopte...             3  \n",
              "1123  <p>Hengyang people can take a helicopter to he...             0  \n",
              "1321  <p>The UH-1 helicopter went down in the quiet ...             3  \n",
              "3894  <p>&nbsp;The OH-58Ds were officially part of F...             3  \n",
              "1929  <p>When the MEBAA Show 2018 opens on 10 Decemb...             0  "
            ]
          },
          "execution_count": 45,
          "metadata": {},
          "output_type": "execute_result"
        }
      ],
      "source": [
        "train = pd.concat([X_train,y_train],axis =1)\n",
        "train.head()"
      ]
    },
    {
      "cell_type": "code",
      "execution_count": null,
      "metadata": {
        "colab": {
          "base_uri": "https://localhost:8080/"
        },
        "id": "PDEdZeK9gqcN",
        "outputId": "4fba18cf-f59d-48d6-ff6e-d94726b4a483"
      },
      "outputs": [
        {
          "name": "stderr",
          "output_type": "stream",
          "text": [
            "[nltk_data] Downloading package stopwords to /root/nltk_data...\n",
            "[nltk_data]   Unzipping corpora/stopwords.zip.\n"
          ]
        },
        {
          "data": {
            "text/plain": [
              "True"
            ]
          },
          "execution_count": 22,
          "metadata": {},
          "output_type": "execute_result"
        }
      ],
      "source": [
        "nltk.download('stopwords')"
      ]
    },
    {
      "cell_type": "code",
      "execution_count": null,
      "metadata": {
        "colab": {
          "base_uri": "https://localhost:8080/"
        },
        "id": "7N6vva5IhSJk",
        "outputId": "a760a191-6ad9-46ee-d2d6-c85d8ef85884"
      },
      "outputs": [
        {
          "name": "stderr",
          "output_type": "stream",
          "text": [
            "[nltk_data] Downloading package punkt to /root/nltk_data...\n",
            "[nltk_data]   Package punkt is already up-to-date!\n",
            "[nltk_data] Downloading package wordnet to /root/nltk_data...\n"
          ]
        },
        {
          "data": {
            "text/plain": [
              "True"
            ]
          },
          "execution_count": 31,
          "metadata": {},
          "output_type": "execute_result"
        }
      ],
      "source": [
        "nltk.download('punkt')\n",
        "nltk.download('wordnet')"
      ]
    },
    {
      "cell_type": "code",
      "execution_count": null,
      "metadata": {
        "colab": {
          "base_uri": "https://localhost:8080/"
        },
        "id": "Yv3vNNJgkgzc",
        "outputId": "c5c0932b-9ddf-48ce-f438-7bc4402d1adb"
      },
      "outputs": [
        {
          "name": "stdout",
          "output_type": "stream",
          "text": [
            "<class 'pandas.core.series.Series'>\n",
            "RangeIndex: 4305 entries, 0 to 4304\n",
            "Series name: Article_Type\n",
            "Non-Null Count  Dtype \n",
            "--------------  ----- \n",
            "4305 non-null   object\n",
            "dtypes: object(1)\n",
            "memory usage: 33.8+ KB\n"
          ]
        }
      ],
      "source": [
        "df['Article_Type'].info()"
      ]
    },
    {
      "cell_type": "code",
      "execution_count": null,
      "metadata": {
        "id": "N-3dUYclfgYz"
      },
      "outputs": [],
      "source": [
        "from nltk.stem import PorterStemmer\n",
        "from nltk.corpus import stopwords\n",
        "from nltk.stem import WordNetLemmatizer\n",
        "stemmer = PorterStemmer()\n",
        "lemat = WordNetLemmatizer()\n"
      ]
    },
    {
      "cell_type": "code",
      "execution_count": null,
      "metadata": {
        "id": "L72amTO68bxI"
      },
      "outputs": [],
      "source": [
        "import re\n",
        "corpus =[]\n",
        "for i in range(len(df['Heading'])):\n",
        "  heading = re.sub('[^a-zA-Z]',' ',df['Heading'][i])\n",
        "  heading = heading.lower()\n",
        "  heading = heading.split()\n",
        "  review = [lemat.lemmatize(word) for word in heading if not word in set(stopwords.words('english'))]\n",
        "  review = ' '.join(review)\n",
        "  corpus.append(review)\n"
      ]
    },
    {
      "cell_type": "code",
      "execution_count": null,
      "metadata": {
        "id": "zzdonCtOlOSV"
      },
      "outputs": [],
      "source": [
        "df['Heading_preprocess'] = corpus"
      ]
    },
    {
      "cell_type": "code",
      "execution_count": null,
      "metadata": {
        "id": "REk6tofBl9P0"
      },
      "outputs": [],
      "source": [
        "from bs4 import BeautifulSoup\n"
      ]
    },
    {
      "cell_type": "code",
      "execution_count": null,
      "metadata": {
        "id": "HgTs0f2ym7DE"
      },
      "outputs": [],
      "source": [
        "tags_re = re.compile('<.*?>')"
      ]
    },
    {
      "cell_type": "code",
      "execution_count": null,
      "metadata": {
        "id": "st1omV038qpk"
      },
      "outputs": [],
      "source": [
        "corpus =[]\n",
        "for i in range(len(df['Full_Article'])):\n",
        "  #text = BeautifulSoup(df['Full_Article'][i],'lxml').text\n",
        "  text = re.sub(tags_re,'',df['Full_Article'][i])\n",
        "  text = re.sub('[^a-zA-Z]',' ',df['Full_Article'][i])\n",
        "  text = text.lower()\n",
        "  text = text.split()\n",
        "  review = [lemat.lemmatize(word) for word in text if not word in set(stopwords.words('english'))]\n",
        "  review = ' '.join(review)\n",
        "  review = review[1:len(review)-1]\n",
        "  corpus.append(review)"
      ]
    },
    {
      "cell_type": "code",
      "execution_count": null,
      "metadata": {
        "id": "A7WK-x4Wofij"
      },
      "outputs": [],
      "source": [
        "df['Article_preprocess'] = corpus"
      ]
    },
    {
      "cell_type": "code",
      "execution_count": null,
      "metadata": {
        "id": "Atkyw-5ze3WN"
      },
      "outputs": [],
      "source": [
        "corpus =[]\n",
        "for i in range(len(df['Article.Description'])):\n",
        "  #text = BeautifulSoup(df['Full_Article'][i],'lxml').text\n",
        "  text = re.sub(tags_re,'',df['Article.Description'][i])\n",
        "  text = re.sub('[^a-zA-Z]',' ',df['Article.Description'][i])\n",
        "  text = text.lower()\n",
        "  text = text.split()\n",
        "  review = [lemat.lemmatize(word) for word in text if not word in set(stopwords.words('english'))]\n",
        "  review = ' '.join(review)\n",
        "  review = review[1:len(review)-1]\n",
        "  corpus.append(review)"
      ]
    },
    {
      "cell_type": "code",
      "execution_count": null,
      "metadata": {
        "id": "dWkebnyUm0vI"
      },
      "outputs": [],
      "source": [
        "df['Description_preprocess'] = corpus"
      ]
    },
    {
      "cell_type": "code",
      "execution_count": null,
      "metadata": {
        "colab": {
          "base_uri": "https://localhost:8080/",
          "height": 449
        },
        "id": "Caa9WCprqGgd",
        "outputId": "9b45f6db-9528-4150-dbba-4656250c8f41"
      },
      "outputs": [
        {
          "data": {
            "text/html": [
              "\n",
              "  <div id=\"df-699fdb44-f009-4de5-8819-e4bf5e94eedd\" class=\"colab-df-container\">\n",
              "    <div>\n",
              "<style scoped>\n",
              "    .dataframe tbody tr th:only-of-type {\n",
              "        vertical-align: middle;\n",
              "    }\n",
              "\n",
              "    .dataframe tbody tr th {\n",
              "        vertical-align: top;\n",
              "    }\n",
              "\n",
              "    .dataframe thead th {\n",
              "        text-align: right;\n",
              "    }\n",
              "</style>\n",
              "<table border=\"1\" class=\"dataframe\">\n",
              "  <thead>\n",
              "    <tr style=\"text-align: right;\">\n",
              "      <th></th>\n",
              "      <th>Heading</th>\n",
              "      <th>Article.Description</th>\n",
              "      <th>Full_Article</th>\n",
              "      <th>Article_Type</th>\n",
              "      <th>Heading_preprocess</th>\n",
              "      <th>Article_preprocess</th>\n",
              "      <th>Description_preprocess</th>\n",
              "    </tr>\n",
              "  </thead>\n",
              "  <tbody>\n",
              "    <tr>\n",
              "      <th>0</th>\n",
              "      <td>A Puzzling Maneuver, Then Freefall: NTSB Repor...</td>\n",
              "      <td>&lt;p&gt;The helicopter that crashed in Southeast Al...</td>\n",
              "      <td>&lt;p&gt;The helicopter that crashed in Southeast Al...</td>\n",
              "      <td>Commercial</td>\n",
              "      <td>puzzling maneuver freefall ntsb report provide...</td>\n",
              "      <td>helicopter crashed southeast alaska late sept...</td>\n",
              "      <td>helicopter crashed southeast alaska late sept...</td>\n",
              "    </tr>\n",
              "    <tr>\n",
              "      <th>1</th>\n",
              "      <td>Bell’s Nexus Air Taxi Concept Rings Changes Fo...</td>\n",
              "      <td>&lt;p&gt;A year after teasing the fledgling electric...</td>\n",
              "      <td>&lt;p&gt;A year after teasing the fledgling electric...</td>\n",
              "      <td>Commercial</td>\n",
              "      <td>bell nexus air taxi concept ring change evtol ...</td>\n",
              "      <td>year teasing fledgling electric vertical take...</td>\n",
              "      <td>year teasing fledgling electric vertical take...</td>\n",
              "    </tr>\n",
              "    <tr>\n",
              "      <th>2</th>\n",
              "      <td>Bell Helicopter Show Air Taxi Nexus</td>\n",
              "      <td>&lt;p&gt;Bell released the full-size design of the v...</td>\n",
              "      <td>&lt;p&gt;Bell released the full-size design of the v...</td>\n",
              "      <td>Commercial</td>\n",
              "      <td>bell helicopter show air taxi nexus</td>\n",
              "      <td>bell released full size design vertical take ...</td>\n",
              "      <td>bell released full size design vertical take ...</td>\n",
              "    </tr>\n",
              "    <tr>\n",
              "      <th>3</th>\n",
              "      <td>BELL DÉVOILE LA CONCEPTION INTÉGRALE DE SON TA...</td>\n",
              "      <td>&lt;p&gt;Bell est une soci&amp;eacute;t&amp;eacute; am&amp;eacut...</td>\n",
              "      <td>&lt;p&gt;Bell est une soci&amp;eacute;t&amp;eacute; am&amp;eacut...</td>\n",
              "      <td>Commercial</td>\n",
              "      <td>bell voile la conception int grale de son taxi...</td>\n",
              "      <td>bell est une soci eacute eacute eacute ricain...</td>\n",
              "      <td>bell est une soci eacute eacute eacute ricain...</td>\n",
              "    </tr>\n",
              "    <tr>\n",
              "      <th>4</th>\n",
              "      <td>Les premiers retours d’Olivier Ezratty</td>\n",
              "      <td>&lt;p&gt;It was still anecdotal to observe the explo...</td>\n",
              "      <td>&lt;p&gt;It was still anecdotal to observe the explo...</td>\n",
              "      <td>Commercial</td>\n",
              "      <td>le premier retours olivier ezratty</td>\n",
              "      <td>still anecdotal observe explosion passenger d...</td>\n",
              "      <td>still anecdotal observe explosion passenger d...</td>\n",
              "    </tr>\n",
              "  </tbody>\n",
              "</table>\n",
              "</div>\n",
              "    <div class=\"colab-df-buttons\">\n",
              "\n",
              "  <div class=\"colab-df-container\">\n",
              "    <button class=\"colab-df-convert\" onclick=\"convertToInteractive('df-699fdb44-f009-4de5-8819-e4bf5e94eedd')\"\n",
              "            title=\"Convert this dataframe to an interactive table.\"\n",
              "            style=\"display:none;\">\n",
              "\n",
              "  <svg xmlns=\"http://www.w3.org/2000/svg\" height=\"24px\" viewBox=\"0 -960 960 960\">\n",
              "    <path d=\"M120-120v-720h720v720H120Zm60-500h600v-160H180v160Zm220 220h160v-160H400v160Zm0 220h160v-160H400v160ZM180-400h160v-160H180v160Zm440 0h160v-160H620v160ZM180-180h160v-160H180v160Zm440 0h160v-160H620v160Z\"/>\n",
              "  </svg>\n",
              "    </button>\n",
              "\n",
              "  <style>\n",
              "    .colab-df-container {\n",
              "      display:flex;\n",
              "      gap: 12px;\n",
              "    }\n",
              "\n",
              "    .colab-df-convert {\n",
              "      background-color: #E8F0FE;\n",
              "      border: none;\n",
              "      border-radius: 50%;\n",
              "      cursor: pointer;\n",
              "      display: none;\n",
              "      fill: #1967D2;\n",
              "      height: 32px;\n",
              "      padding: 0 0 0 0;\n",
              "      width: 32px;\n",
              "    }\n",
              "\n",
              "    .colab-df-convert:hover {\n",
              "      background-color: #E2EBFA;\n",
              "      box-shadow: 0px 1px 2px rgba(60, 64, 67, 0.3), 0px 1px 3px 1px rgba(60, 64, 67, 0.15);\n",
              "      fill: #174EA6;\n",
              "    }\n",
              "\n",
              "    .colab-df-buttons div {\n",
              "      margin-bottom: 4px;\n",
              "    }\n",
              "\n",
              "    [theme=dark] .colab-df-convert {\n",
              "      background-color: #3B4455;\n",
              "      fill: #D2E3FC;\n",
              "    }\n",
              "\n",
              "    [theme=dark] .colab-df-convert:hover {\n",
              "      background-color: #434B5C;\n",
              "      box-shadow: 0px 1px 3px 1px rgba(0, 0, 0, 0.15);\n",
              "      filter: drop-shadow(0px 1px 2px rgba(0, 0, 0, 0.3));\n",
              "      fill: #FFFFFF;\n",
              "    }\n",
              "  </style>\n",
              "\n",
              "    <script>\n",
              "      const buttonEl =\n",
              "        document.querySelector('#df-699fdb44-f009-4de5-8819-e4bf5e94eedd button.colab-df-convert');\n",
              "      buttonEl.style.display =\n",
              "        google.colab.kernel.accessAllowed ? 'block' : 'none';\n",
              "\n",
              "      async function convertToInteractive(key) {\n",
              "        const element = document.querySelector('#df-699fdb44-f009-4de5-8819-e4bf5e94eedd');\n",
              "        const dataTable =\n",
              "          await google.colab.kernel.invokeFunction('convertToInteractive',\n",
              "                                                    [key], {});\n",
              "        if (!dataTable) return;\n",
              "\n",
              "        const docLinkHtml = 'Like what you see? Visit the ' +\n",
              "          '<a target=\"_blank\" href=https://colab.research.google.com/notebooks/data_table.ipynb>data table notebook</a>'\n",
              "          + ' to learn more about interactive tables.';\n",
              "        element.innerHTML = '';\n",
              "        dataTable['output_type'] = 'display_data';\n",
              "        await google.colab.output.renderOutput(dataTable, element);\n",
              "        const docLink = document.createElement('div');\n",
              "        docLink.innerHTML = docLinkHtml;\n",
              "        element.appendChild(docLink);\n",
              "      }\n",
              "    </script>\n",
              "  </div>\n",
              "\n",
              "\n",
              "<div id=\"df-abccb6e1-85f9-4cfb-b981-22abcb58bd44\">\n",
              "  <button class=\"colab-df-quickchart\" onclick=\"quickchart('df-abccb6e1-85f9-4cfb-b981-22abcb58bd44')\"\n",
              "            title=\"Suggest charts.\"\n",
              "            style=\"display:none;\">\n",
              "\n",
              "<svg xmlns=\"http://www.w3.org/2000/svg\" height=\"24px\"viewBox=\"0 0 24 24\"\n",
              "     width=\"24px\">\n",
              "    <g>\n",
              "        <path d=\"M19 3H5c-1.1 0-2 .9-2 2v14c0 1.1.9 2 2 2h14c1.1 0 2-.9 2-2V5c0-1.1-.9-2-2-2zM9 17H7v-7h2v7zm4 0h-2V7h2v10zm4 0h-2v-4h2v4z\"/>\n",
              "    </g>\n",
              "</svg>\n",
              "  </button>\n",
              "\n",
              "<style>\n",
              "  .colab-df-quickchart {\n",
              "      --bg-color: #E8F0FE;\n",
              "      --fill-color: #1967D2;\n",
              "      --hover-bg-color: #E2EBFA;\n",
              "      --hover-fill-color: #174EA6;\n",
              "      --disabled-fill-color: #AAA;\n",
              "      --disabled-bg-color: #DDD;\n",
              "  }\n",
              "\n",
              "  [theme=dark] .colab-df-quickchart {\n",
              "      --bg-color: #3B4455;\n",
              "      --fill-color: #D2E3FC;\n",
              "      --hover-bg-color: #434B5C;\n",
              "      --hover-fill-color: #FFFFFF;\n",
              "      --disabled-bg-color: #3B4455;\n",
              "      --disabled-fill-color: #666;\n",
              "  }\n",
              "\n",
              "  .colab-df-quickchart {\n",
              "    background-color: var(--bg-color);\n",
              "    border: none;\n",
              "    border-radius: 50%;\n",
              "    cursor: pointer;\n",
              "    display: none;\n",
              "    fill: var(--fill-color);\n",
              "    height: 32px;\n",
              "    padding: 0;\n",
              "    width: 32px;\n",
              "  }\n",
              "\n",
              "  .colab-df-quickchart:hover {\n",
              "    background-color: var(--hover-bg-color);\n",
              "    box-shadow: 0 1px 2px rgba(60, 64, 67, 0.3), 0 1px 3px 1px rgba(60, 64, 67, 0.15);\n",
              "    fill: var(--button-hover-fill-color);\n",
              "  }\n",
              "\n",
              "  .colab-df-quickchart-complete:disabled,\n",
              "  .colab-df-quickchart-complete:disabled:hover {\n",
              "    background-color: var(--disabled-bg-color);\n",
              "    fill: var(--disabled-fill-color);\n",
              "    box-shadow: none;\n",
              "  }\n",
              "\n",
              "  .colab-df-spinner {\n",
              "    border: 2px solid var(--fill-color);\n",
              "    border-color: transparent;\n",
              "    border-bottom-color: var(--fill-color);\n",
              "    animation:\n",
              "      spin 1s steps(1) infinite;\n",
              "  }\n",
              "\n",
              "  @keyframes spin {\n",
              "    0% {\n",
              "      border-color: transparent;\n",
              "      border-bottom-color: var(--fill-color);\n",
              "      border-left-color: var(--fill-color);\n",
              "    }\n",
              "    20% {\n",
              "      border-color: transparent;\n",
              "      border-left-color: var(--fill-color);\n",
              "      border-top-color: var(--fill-color);\n",
              "    }\n",
              "    30% {\n",
              "      border-color: transparent;\n",
              "      border-left-color: var(--fill-color);\n",
              "      border-top-color: var(--fill-color);\n",
              "      border-right-color: var(--fill-color);\n",
              "    }\n",
              "    40% {\n",
              "      border-color: transparent;\n",
              "      border-right-color: var(--fill-color);\n",
              "      border-top-color: var(--fill-color);\n",
              "    }\n",
              "    60% {\n",
              "      border-color: transparent;\n",
              "      border-right-color: var(--fill-color);\n",
              "    }\n",
              "    80% {\n",
              "      border-color: transparent;\n",
              "      border-right-color: var(--fill-color);\n",
              "      border-bottom-color: var(--fill-color);\n",
              "    }\n",
              "    90% {\n",
              "      border-color: transparent;\n",
              "      border-bottom-color: var(--fill-color);\n",
              "    }\n",
              "  }\n",
              "</style>\n",
              "\n",
              "  <script>\n",
              "    async function quickchart(key) {\n",
              "      const quickchartButtonEl =\n",
              "        document.querySelector('#' + key + ' button');\n",
              "      quickchartButtonEl.disabled = true;  // To prevent multiple clicks.\n",
              "      quickchartButtonEl.classList.add('colab-df-spinner');\n",
              "      try {\n",
              "        const charts = await google.colab.kernel.invokeFunction(\n",
              "            'suggestCharts', [key], {});\n",
              "      } catch (error) {\n",
              "        console.error('Error during call to suggestCharts:', error);\n",
              "      }\n",
              "      quickchartButtonEl.classList.remove('colab-df-spinner');\n",
              "      quickchartButtonEl.classList.add('colab-df-quickchart-complete');\n",
              "    }\n",
              "    (() => {\n",
              "      let quickchartButtonEl =\n",
              "        document.querySelector('#df-abccb6e1-85f9-4cfb-b981-22abcb58bd44 button');\n",
              "      quickchartButtonEl.style.display =\n",
              "        google.colab.kernel.accessAllowed ? 'block' : 'none';\n",
              "    })();\n",
              "  </script>\n",
              "</div>\n",
              "    </div>\n",
              "  </div>\n"
            ],
            "text/plain": [
              "                                             Heading  \\\n",
              "0  A Puzzling Maneuver, Then Freefall: NTSB Repor...   \n",
              "1  Bell’s Nexus Air Taxi Concept Rings Changes Fo...   \n",
              "2                Bell Helicopter Show Air Taxi Nexus   \n",
              "3  BELL DÉVOILE LA CONCEPTION INTÉGRALE DE SON TA...   \n",
              "4             Les premiers retours d’Olivier Ezratty   \n",
              "\n",
              "                                 Article.Description  \\\n",
              "0  <p>The helicopter that crashed in Southeast Al...   \n",
              "1  <p>A year after teasing the fledgling electric...   \n",
              "2  <p>Bell released the full-size design of the v...   \n",
              "3  <p>Bell est une soci&eacute;t&eacute; am&eacut...   \n",
              "4  <p>It was still anecdotal to observe the explo...   \n",
              "\n",
              "                                        Full_Article Article_Type  \\\n",
              "0  <p>The helicopter that crashed in Southeast Al...   Commercial   \n",
              "1  <p>A year after teasing the fledgling electric...   Commercial   \n",
              "2  <p>Bell released the full-size design of the v...   Commercial   \n",
              "3  <p>Bell est une soci&eacute;t&eacute; am&eacut...   Commercial   \n",
              "4  <p>It was still anecdotal to observe the explo...   Commercial   \n",
              "\n",
              "                                  Heading_preprocess  \\\n",
              "0  puzzling maneuver freefall ntsb report provide...   \n",
              "1  bell nexus air taxi concept ring change evtol ...   \n",
              "2                bell helicopter show air taxi nexus   \n",
              "3  bell voile la conception int grale de son taxi...   \n",
              "4                 le premier retours olivier ezratty   \n",
              "\n",
              "                                  Article_preprocess  \\\n",
              "0   helicopter crashed southeast alaska late sept...   \n",
              "1   year teasing fledgling electric vertical take...   \n",
              "2   bell released full size design vertical take ...   \n",
              "3   bell est une soci eacute eacute eacute ricain...   \n",
              "4   still anecdotal observe explosion passenger d...   \n",
              "\n",
              "                              Description_preprocess  \n",
              "0   helicopter crashed southeast alaska late sept...  \n",
              "1   year teasing fledgling electric vertical take...  \n",
              "2   bell released full size design vertical take ...  \n",
              "3   bell est une soci eacute eacute eacute ricain...  \n",
              "4   still anecdotal observe explosion passenger d...  "
            ]
          },
          "execution_count": 70,
          "metadata": {},
          "output_type": "execute_result"
        }
      ],
      "source": [
        "df.head()"
      ]
    },
    {
      "cell_type": "code",
      "execution_count": null,
      "metadata": {
        "id": "qiY2YPPpqHsK"
      },
      "outputs": [],
      "source": [
        "df.drop(['Heading','Article.Description','Full_Article'],axis=1,inplace=True)"
      ]
    },
    {
      "cell_type": "code",
      "execution_count": null,
      "metadata": {
        "colab": {
          "base_uri": "https://localhost:8080/",
          "height": 206
        },
        "id": "6N-hQZcHqdQS",
        "outputId": "f6455959-b216-4a58-f03d-5c0c7f3c126f"
      },
      "outputs": [
        {
          "data": {
            "text/html": [
              "\n",
              "  <div id=\"df-cc015ed8-6a41-4241-bea5-c53b15ae44c8\" class=\"colab-df-container\">\n",
              "    <div>\n",
              "<style scoped>\n",
              "    .dataframe tbody tr th:only-of-type {\n",
              "        vertical-align: middle;\n",
              "    }\n",
              "\n",
              "    .dataframe tbody tr th {\n",
              "        vertical-align: top;\n",
              "    }\n",
              "\n",
              "    .dataframe thead th {\n",
              "        text-align: right;\n",
              "    }\n",
              "</style>\n",
              "<table border=\"1\" class=\"dataframe\">\n",
              "  <thead>\n",
              "    <tr style=\"text-align: right;\">\n",
              "      <th></th>\n",
              "      <th>Article_Type</th>\n",
              "      <th>Heading_preprocess</th>\n",
              "      <th>Article_preprocess</th>\n",
              "      <th>Description_preprocess</th>\n",
              "    </tr>\n",
              "  </thead>\n",
              "  <tbody>\n",
              "    <tr>\n",
              "      <th>0</th>\n",
              "      <td>Commercial</td>\n",
              "      <td>puzzling maneuver freefall ntsb report provide...</td>\n",
              "      <td>helicopter crashed southeast alaska late sept...</td>\n",
              "      <td>helicopter crashed southeast alaska late sept...</td>\n",
              "    </tr>\n",
              "    <tr>\n",
              "      <th>1</th>\n",
              "      <td>Commercial</td>\n",
              "      <td>bell nexus air taxi concept ring change evtol ...</td>\n",
              "      <td>year teasing fledgling electric vertical take...</td>\n",
              "      <td>year teasing fledgling electric vertical take...</td>\n",
              "    </tr>\n",
              "    <tr>\n",
              "      <th>2</th>\n",
              "      <td>Commercial</td>\n",
              "      <td>bell helicopter show air taxi nexus</td>\n",
              "      <td>bell released full size design vertical take ...</td>\n",
              "      <td>bell released full size design vertical take ...</td>\n",
              "    </tr>\n",
              "    <tr>\n",
              "      <th>3</th>\n",
              "      <td>Commercial</td>\n",
              "      <td>bell voile la conception int grale de son taxi...</td>\n",
              "      <td>bell est une soci eacute eacute eacute ricain...</td>\n",
              "      <td>bell est une soci eacute eacute eacute ricain...</td>\n",
              "    </tr>\n",
              "    <tr>\n",
              "      <th>4</th>\n",
              "      <td>Commercial</td>\n",
              "      <td>le premier retours olivier ezratty</td>\n",
              "      <td>still anecdotal observe explosion passenger d...</td>\n",
              "      <td>still anecdotal observe explosion passenger d...</td>\n",
              "    </tr>\n",
              "  </tbody>\n",
              "</table>\n",
              "</div>\n",
              "    <div class=\"colab-df-buttons\">\n",
              "\n",
              "  <div class=\"colab-df-container\">\n",
              "    <button class=\"colab-df-convert\" onclick=\"convertToInteractive('df-cc015ed8-6a41-4241-bea5-c53b15ae44c8')\"\n",
              "            title=\"Convert this dataframe to an interactive table.\"\n",
              "            style=\"display:none;\">\n",
              "\n",
              "  <svg xmlns=\"http://www.w3.org/2000/svg\" height=\"24px\" viewBox=\"0 -960 960 960\">\n",
              "    <path d=\"M120-120v-720h720v720H120Zm60-500h600v-160H180v160Zm220 220h160v-160H400v160Zm0 220h160v-160H400v160ZM180-400h160v-160H180v160Zm440 0h160v-160H620v160ZM180-180h160v-160H180v160Zm440 0h160v-160H620v160Z\"/>\n",
              "  </svg>\n",
              "    </button>\n",
              "\n",
              "  <style>\n",
              "    .colab-df-container {\n",
              "      display:flex;\n",
              "      gap: 12px;\n",
              "    }\n",
              "\n",
              "    .colab-df-convert {\n",
              "      background-color: #E8F0FE;\n",
              "      border: none;\n",
              "      border-radius: 50%;\n",
              "      cursor: pointer;\n",
              "      display: none;\n",
              "      fill: #1967D2;\n",
              "      height: 32px;\n",
              "      padding: 0 0 0 0;\n",
              "      width: 32px;\n",
              "    }\n",
              "\n",
              "    .colab-df-convert:hover {\n",
              "      background-color: #E2EBFA;\n",
              "      box-shadow: 0px 1px 2px rgba(60, 64, 67, 0.3), 0px 1px 3px 1px rgba(60, 64, 67, 0.15);\n",
              "      fill: #174EA6;\n",
              "    }\n",
              "\n",
              "    .colab-df-buttons div {\n",
              "      margin-bottom: 4px;\n",
              "    }\n",
              "\n",
              "    [theme=dark] .colab-df-convert {\n",
              "      background-color: #3B4455;\n",
              "      fill: #D2E3FC;\n",
              "    }\n",
              "\n",
              "    [theme=dark] .colab-df-convert:hover {\n",
              "      background-color: #434B5C;\n",
              "      box-shadow: 0px 1px 3px 1px rgba(0, 0, 0, 0.15);\n",
              "      filter: drop-shadow(0px 1px 2px rgba(0, 0, 0, 0.3));\n",
              "      fill: #FFFFFF;\n",
              "    }\n",
              "  </style>\n",
              "\n",
              "    <script>\n",
              "      const buttonEl =\n",
              "        document.querySelector('#df-cc015ed8-6a41-4241-bea5-c53b15ae44c8 button.colab-df-convert');\n",
              "      buttonEl.style.display =\n",
              "        google.colab.kernel.accessAllowed ? 'block' : 'none';\n",
              "\n",
              "      async function convertToInteractive(key) {\n",
              "        const element = document.querySelector('#df-cc015ed8-6a41-4241-bea5-c53b15ae44c8');\n",
              "        const dataTable =\n",
              "          await google.colab.kernel.invokeFunction('convertToInteractive',\n",
              "                                                    [key], {});\n",
              "        if (!dataTable) return;\n",
              "\n",
              "        const docLinkHtml = 'Like what you see? Visit the ' +\n",
              "          '<a target=\"_blank\" href=https://colab.research.google.com/notebooks/data_table.ipynb>data table notebook</a>'\n",
              "          + ' to learn more about interactive tables.';\n",
              "        element.innerHTML = '';\n",
              "        dataTable['output_type'] = 'display_data';\n",
              "        await google.colab.output.renderOutput(dataTable, element);\n",
              "        const docLink = document.createElement('div');\n",
              "        docLink.innerHTML = docLinkHtml;\n",
              "        element.appendChild(docLink);\n",
              "      }\n",
              "    </script>\n",
              "  </div>\n",
              "\n",
              "\n",
              "<div id=\"df-9f0f5a62-7280-4e7d-9e46-b37adc2df0c9\">\n",
              "  <button class=\"colab-df-quickchart\" onclick=\"quickchart('df-9f0f5a62-7280-4e7d-9e46-b37adc2df0c9')\"\n",
              "            title=\"Suggest charts.\"\n",
              "            style=\"display:none;\">\n",
              "\n",
              "<svg xmlns=\"http://www.w3.org/2000/svg\" height=\"24px\"viewBox=\"0 0 24 24\"\n",
              "     width=\"24px\">\n",
              "    <g>\n",
              "        <path d=\"M19 3H5c-1.1 0-2 .9-2 2v14c0 1.1.9 2 2 2h14c1.1 0 2-.9 2-2V5c0-1.1-.9-2-2-2zM9 17H7v-7h2v7zm4 0h-2V7h2v10zm4 0h-2v-4h2v4z\"/>\n",
              "    </g>\n",
              "</svg>\n",
              "  </button>\n",
              "\n",
              "<style>\n",
              "  .colab-df-quickchart {\n",
              "      --bg-color: #E8F0FE;\n",
              "      --fill-color: #1967D2;\n",
              "      --hover-bg-color: #E2EBFA;\n",
              "      --hover-fill-color: #174EA6;\n",
              "      --disabled-fill-color: #AAA;\n",
              "      --disabled-bg-color: #DDD;\n",
              "  }\n",
              "\n",
              "  [theme=dark] .colab-df-quickchart {\n",
              "      --bg-color: #3B4455;\n",
              "      --fill-color: #D2E3FC;\n",
              "      --hover-bg-color: #434B5C;\n",
              "      --hover-fill-color: #FFFFFF;\n",
              "      --disabled-bg-color: #3B4455;\n",
              "      --disabled-fill-color: #666;\n",
              "  }\n",
              "\n",
              "  .colab-df-quickchart {\n",
              "    background-color: var(--bg-color);\n",
              "    border: none;\n",
              "    border-radius: 50%;\n",
              "    cursor: pointer;\n",
              "    display: none;\n",
              "    fill: var(--fill-color);\n",
              "    height: 32px;\n",
              "    padding: 0;\n",
              "    width: 32px;\n",
              "  }\n",
              "\n",
              "  .colab-df-quickchart:hover {\n",
              "    background-color: var(--hover-bg-color);\n",
              "    box-shadow: 0 1px 2px rgba(60, 64, 67, 0.3), 0 1px 3px 1px rgba(60, 64, 67, 0.15);\n",
              "    fill: var(--button-hover-fill-color);\n",
              "  }\n",
              "\n",
              "  .colab-df-quickchart-complete:disabled,\n",
              "  .colab-df-quickchart-complete:disabled:hover {\n",
              "    background-color: var(--disabled-bg-color);\n",
              "    fill: var(--disabled-fill-color);\n",
              "    box-shadow: none;\n",
              "  }\n",
              "\n",
              "  .colab-df-spinner {\n",
              "    border: 2px solid var(--fill-color);\n",
              "    border-color: transparent;\n",
              "    border-bottom-color: var(--fill-color);\n",
              "    animation:\n",
              "      spin 1s steps(1) infinite;\n",
              "  }\n",
              "\n",
              "  @keyframes spin {\n",
              "    0% {\n",
              "      border-color: transparent;\n",
              "      border-bottom-color: var(--fill-color);\n",
              "      border-left-color: var(--fill-color);\n",
              "    }\n",
              "    20% {\n",
              "      border-color: transparent;\n",
              "      border-left-color: var(--fill-color);\n",
              "      border-top-color: var(--fill-color);\n",
              "    }\n",
              "    30% {\n",
              "      border-color: transparent;\n",
              "      border-left-color: var(--fill-color);\n",
              "      border-top-color: var(--fill-color);\n",
              "      border-right-color: var(--fill-color);\n",
              "    }\n",
              "    40% {\n",
              "      border-color: transparent;\n",
              "      border-right-color: var(--fill-color);\n",
              "      border-top-color: var(--fill-color);\n",
              "    }\n",
              "    60% {\n",
              "      border-color: transparent;\n",
              "      border-right-color: var(--fill-color);\n",
              "    }\n",
              "    80% {\n",
              "      border-color: transparent;\n",
              "      border-right-color: var(--fill-color);\n",
              "      border-bottom-color: var(--fill-color);\n",
              "    }\n",
              "    90% {\n",
              "      border-color: transparent;\n",
              "      border-bottom-color: var(--fill-color);\n",
              "    }\n",
              "  }\n",
              "</style>\n",
              "\n",
              "  <script>\n",
              "    async function quickchart(key) {\n",
              "      const quickchartButtonEl =\n",
              "        document.querySelector('#' + key + ' button');\n",
              "      quickchartButtonEl.disabled = true;  // To prevent multiple clicks.\n",
              "      quickchartButtonEl.classList.add('colab-df-spinner');\n",
              "      try {\n",
              "        const charts = await google.colab.kernel.invokeFunction(\n",
              "            'suggestCharts', [key], {});\n",
              "      } catch (error) {\n",
              "        console.error('Error during call to suggestCharts:', error);\n",
              "      }\n",
              "      quickchartButtonEl.classList.remove('colab-df-spinner');\n",
              "      quickchartButtonEl.classList.add('colab-df-quickchart-complete');\n",
              "    }\n",
              "    (() => {\n",
              "      let quickchartButtonEl =\n",
              "        document.querySelector('#df-9f0f5a62-7280-4e7d-9e46-b37adc2df0c9 button');\n",
              "      quickchartButtonEl.style.display =\n",
              "        google.colab.kernel.accessAllowed ? 'block' : 'none';\n",
              "    })();\n",
              "  </script>\n",
              "</div>\n",
              "    </div>\n",
              "  </div>\n"
            ],
            "text/plain": [
              "  Article_Type                                 Heading_preprocess  \\\n",
              "0   Commercial  puzzling maneuver freefall ntsb report provide...   \n",
              "1   Commercial  bell nexus air taxi concept ring change evtol ...   \n",
              "2   Commercial                bell helicopter show air taxi nexus   \n",
              "3   Commercial  bell voile la conception int grale de son taxi...   \n",
              "4   Commercial                 le premier retours olivier ezratty   \n",
              "\n",
              "                                  Article_preprocess  \\\n",
              "0   helicopter crashed southeast alaska late sept...   \n",
              "1   year teasing fledgling electric vertical take...   \n",
              "2   bell released full size design vertical take ...   \n",
              "3   bell est une soci eacute eacute eacute ricain...   \n",
              "4   still anecdotal observe explosion passenger d...   \n",
              "\n",
              "                              Description_preprocess  \n",
              "0   helicopter crashed southeast alaska late sept...  \n",
              "1   year teasing fledgling electric vertical take...  \n",
              "2   bell released full size design vertical take ...  \n",
              "3   bell est une soci eacute eacute eacute ricain...  \n",
              "4   still anecdotal observe explosion passenger d...  "
            ]
          },
          "execution_count": 72,
          "metadata": {},
          "output_type": "execute_result"
        }
      ],
      "source": [
        "df.head()"
      ]
    },
    {
      "cell_type": "code",
      "execution_count": null,
      "metadata": {
        "colab": {
          "base_uri": "https://localhost:8080/"
        },
        "id": "GDLW7SFIqeNP",
        "outputId": "46b1a5ba-9bed-462a-a54f-4454acbe1b75"
      },
      "outputs": [
        {
          "data": {
            "text/plain": [
              "Commercial            2470\n",
              "Military              1677\n",
              "Executives              65\n",
              "Others                  52\n",
              "Support & Services      26\n",
              "Financing                9\n",
              "Training                 6\n",
              "Name: Article_Type, dtype: int64"
            ]
          },
          "execution_count": 73,
          "metadata": {},
          "output_type": "execute_result"
        }
      ],
      "source": [
        "df.Article_Type.value_counts()"
      ]
    },
    {
      "cell_type": "code",
      "execution_count": null,
      "metadata": {
        "id": "JOGSQyZlrDsA"
      },
      "outputs": [],
      "source": [
        "df2 = pd.read_csv('article.csv',encoding='cp1252')"
      ]
    },
    {
      "cell_type": "code",
      "execution_count": null,
      "metadata": {
        "id": "XyM0bmMNr_N8"
      },
      "outputs": [],
      "source": [
        "df2.drop(['Article.Banner.Image'],axis=1,inplace=True)"
      ]
    },
    {
      "cell_type": "code",
      "execution_count": null,
      "metadata": {
        "id": "9SA1yXYNrO7o"
      },
      "outputs": [],
      "source": [
        "df2.dropna(axis =0, inplace = True)"
      ]
    },
    {
      "cell_type": "code",
      "execution_count": null,
      "metadata": {
        "colab": {
          "base_uri": "https://localhost:8080/"
        },
        "id": "vVIhmQb8rGC6",
        "outputId": "535ed974-fba6-4f1c-ff9f-58ce64eec83f"
      },
      "outputs": [
        {
          "data": {
            "text/plain": [
              "(3873, 7)"
            ]
          },
          "execution_count": 94,
          "metadata": {},
          "output_type": "execute_result"
        }
      ],
      "source": [
        "df2.shape"
      ]
    },
    {
      "cell_type": "code",
      "execution_count": null,
      "metadata": {
        "id": "D1-VYse7rgM4"
      },
      "outputs": [],
      "source": []
    }
  ],
  "metadata": {
    "accelerator": "GPU",
    "colab": {
      "provenance": []
    },
    "kernelspec": {
      "display_name": "Python 3",
      "name": "python3"
    },
    "language_info": {
      "codemirror_mode": {
        "name": "ipython",
        "version": 3
      },
      "file_extension": ".py",
      "mimetype": "text/x-python",
      "name": "python",
      "nbconvert_exporter": "python",
      "pygments_lexer": "ipython3",
      "version": "3.8.18"
    }
  },
  "nbformat": 4,
  "nbformat_minor": 0
}
