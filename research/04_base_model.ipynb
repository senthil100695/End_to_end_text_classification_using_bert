{
 "cells": [
  {
   "cell_type": "code",
   "execution_count": 1,
   "metadata": {},
   "outputs": [
    {
     "data": {
      "text/plain": [
       "'f:\\\\senthil\\\\project\\\\End_to_end_text_classification_using_bert'"
      ]
     },
     "execution_count": 1,
     "metadata": {},
     "output_type": "execute_result"
    }
   ],
   "source": [
    "import os \n",
    "os.chdir('../')\n",
    "%pwd"
   ]
  },
  {
   "cell_type": "code",
   "execution_count": 8,
   "metadata": {},
   "outputs": [],
   "source": [
    "from dataclasses import dataclass\n",
    "from pathlib import Path\n",
    "\n",
    "\n",
    "@dataclass(frozen=True)\n",
    "class BaseModelConfig:\n",
    "    root_dir: Path\n",
    "    model_name: str\n",
    "    base_model_path: Path"
   ]
  },
  {
   "cell_type": "code",
   "execution_count": 6,
   "metadata": {},
   "outputs": [],
   "source": [
    "from sentence_transformers import SentenceTransformer, util\n",
    "from textClassification.constants import *\n",
    "from textClassification.utils.common import read_yaml, create_directories"
   ]
  },
  {
   "cell_type": "code",
   "execution_count": 9,
   "metadata": {},
   "outputs": [],
   "source": [
    "class ConfigurationManager:\n",
    "    def __init__(\n",
    "        self,\n",
    "        config_filepath = CONFIG_FILE_PATH,\n",
    "        params_filepath = PARAMS_FILE_PATH):\n",
    "\n",
    "        self.config = read_yaml(config_filepath)\n",
    "        self.params = read_yaml(params_filepath)\n",
    "\n",
    "        create_directories([self.config.artifacts_root])\n",
    "\n",
    "\n",
    "    \n",
    "    def get_base_model_config(self) -> BaseModelConfig:\n",
    "        config = self.config.base_model\n",
    "\n",
    "        create_directories([config.root_dir])\n",
    "\n",
    "        base_model_config = BaseModelConfig(\n",
    "            root_dir= config.root_dir,\n",
    "            model_name =config.model_name,\n",
    "            base_model_path= config.base_model_path,\n",
    "        )\n",
    "\n",
    "        return base_model_config"
   ]
  },
  {
   "cell_type": "code",
   "execution_count": 10,
   "metadata": {},
   "outputs": [],
   "source": [
    "from sentence_transformers import SentenceTransformer, util\n",
    "import os\n",
    "from textClassification.logging import logging"
   ]
  },
  {
   "cell_type": "code",
   "execution_count": 12,
   "metadata": {},
   "outputs": [],
   "source": [
    "class BaseModel:\n",
    "    def __init__(self, config: BaseModelConfig):\n",
    "        self.config = config\n",
    "\n",
    "\n",
    "    \n",
    "    def download_model(self,model_name,base_model_path):\n",
    "        model = SentenceTransformer(model_name)\n",
    "        model.save(base_model_path)\n",
    "        \n",
    "    \n",
    "\n",
    "    def download_base_model(self):\n",
    "        model_name = self.config.model_name\n",
    "        base_model_path = self.config.base_model_path\n",
    "        self.download_model(model_name,base_model_path)\n",
    "\n"
   ]
  },
  {
   "cell_type": "code",
   "execution_count": 13,
   "metadata": {},
   "outputs": [
    {
     "name": "stderr",
     "output_type": "stream",
     "text": [
      "Downloading (…)5dded/.gitattributes: 100%|██████████| 1.18k/1.18k [00:00<00:00, 140kB/s]\n",
      "Downloading (…)_Pooling/config.json: 100%|██████████| 190/190 [00:00<00:00, 10.6kB/s]\n",
      "Downloading (…)4d81d5dded/README.md: 100%|██████████| 10.6k/10.6k [00:00<?, ?B/s]\n",
      "Downloading (…)81d5dded/config.json: 100%|██████████| 573/573 [00:00<00:00, 36.7kB/s]\n",
      "Downloading (…)ce_transformers.json: 100%|██████████| 116/116 [00:00<?, ?B/s] \n",
      "Downloading (…)ded/data_config.json: 100%|██████████| 39.3k/39.3k [00:00<00:00, 481kB/s]\n",
      "Downloading pytorch_model.bin: 100%|██████████| 134M/134M [02:19<00:00, 954kB/s]  \n",
      "Downloading (…)nce_bert_config.json: 100%|██████████| 53.0/53.0 [00:00<00:00, 7.23kB/s]\n",
      "Downloading (…)cial_tokens_map.json: 100%|██████████| 112/112 [00:00<?, ?B/s] \n",
      "Downloading (…)5dded/tokenizer.json: 100%|██████████| 466k/466k [00:00<00:00, 1.00MB/s]\n",
      "Downloading (…)okenizer_config.json: 100%|██████████| 352/352 [00:00<00:00, 25.3kB/s]\n",
      "Downloading (…)dded/train_script.py: 100%|██████████| 13.2k/13.2k [00:00<00:00, 806kB/s]\n",
      "Downloading (…)4d81d5dded/vocab.txt: 100%|██████████| 232k/232k [00:00<00:00, 332kB/s]\n",
      "Downloading (…)1d5dded/modules.json: 100%|██████████| 349/349 [00:00<00:00, 22.4kB/s]\n"
     ]
    }
   ],
   "source": [
    "try:\n",
    "    config = ConfigurationManager()\n",
    "    base_model_config = config.get_base_model_config()\n",
    "    base_model = BaseModel(config=base_model_config)\n",
    "    base_model.download_base_model()\n",
    "except Exception as e:\n",
    "    raise e"
   ]
  },
  {
   "cell_type": "code",
   "execution_count": null,
   "metadata": {},
   "outputs": [],
   "source": []
  }
 ],
 "metadata": {
  "kernelspec": {
   "display_name": "textclass",
   "language": "python",
   "name": "python3"
  },
  "language_info": {
   "codemirror_mode": {
    "name": "ipython",
    "version": 3
   },
   "file_extension": ".py",
   "mimetype": "text/x-python",
   "name": "python",
   "nbconvert_exporter": "python",
   "pygments_lexer": "ipython3",
   "version": "3.8.18"
  }
 },
 "nbformat": 4,
 "nbformat_minor": 2
}
